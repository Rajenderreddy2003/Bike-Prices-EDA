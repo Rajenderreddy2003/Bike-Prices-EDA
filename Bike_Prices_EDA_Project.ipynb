{
 "cells": [
  {
   "cell_type": "markdown",
   "id": "3f323e7f",
   "metadata": {},
   "source": [
    "# Bike Prices EDA Project\n",
    "\n",
    "This notebook performs exploratory data analysis (EDA) on bike listings scraped from BikesWale.com."
   ]
  },
  {
   "cell_type": "code",
   "execution_count": null,
   "id": "0b6a882e",
   "metadata": {},
   "outputs": [],
   "source": [
    "import pandas as pd\n",
    "import numpy as np\n",
    "import seaborn as sns\n",
    "import matplotlib.pyplot as plt\n",
    "import plotly.express as px\n",
    "import warnings\n",
    "warnings.filterwarnings('ignore')\n",
    "\n",
    "# Load dataset\n",
    "df = pd.read_csv(\"Bikes_Data.csv\")\n",
    "df.head()"
   ]
  },
  {
   "cell_type": "markdown",
   "id": "f8172b05",
   "metadata": {},
   "source": [
    "## 1. Dataset Overview"
   ]
  },
  {
   "cell_type": "code",
   "execution_count": null,
   "id": "c32be8dc",
   "metadata": {},
   "outputs": [],
   "source": [
    "df.info()"
   ]
  },
  {
   "cell_type": "markdown",
   "id": "c681820c",
   "metadata": {},
   "source": [
    "## 2. Missing Values"
   ]
  },
  {
   "cell_type": "code",
   "execution_count": null,
   "id": "2d132496",
   "metadata": {},
   "outputs": [],
   "source": [
    "df.isnull().sum()"
   ]
  },
  {
   "cell_type": "markdown",
   "id": "156ba792",
   "metadata": {},
   "source": [
    "## 3. Duplicate Rows"
   ]
  },
  {
   "cell_type": "code",
   "execution_count": null,
   "id": "24b968c6",
   "metadata": {},
   "outputs": [],
   "source": [
    "df.duplicated().sum()"
   ]
  },
  {
   "cell_type": "markdown",
   "id": "7492e6c5",
   "metadata": {},
   "source": [
    "## 4. Data Cleaning - Price Column"
   ]
  },
  {
   "cell_type": "code",
   "execution_count": null,
   "id": "0483b05f",
   "metadata": {},
   "outputs": [],
   "source": [
    "# Remove currency symbol and commas from Price\n",
    "df['Price'] = df['Price'].replace({'₹': '', ',': ''}, regex=True).astype(float)\n",
    "df.head()"
   ]
  },
  {
   "cell_type": "markdown",
   "id": "40038696",
   "metadata": {},
   "source": [
    "## 5. Univariate Analysis"
   ]
  },
  {
   "cell_type": "code",
   "execution_count": null,
   "id": "69c9eb74",
   "metadata": {},
   "outputs": [],
   "source": [
    "numerical_cols = ['CC', 'BHP', 'Mileage', 'Price', 'Weight', 'Rating']\n",
    "for col in numerical_cols:\n",
    "    plt.figure(figsize=(6, 4))\n",
    "    sns.histplot(df[col], kde=True)\n",
    "    plt.title(f'Distribution of {col}')\n",
    "    plt.show()"
   ]
  },
  {
   "cell_type": "markdown",
   "id": "2f4dd34f",
   "metadata": {},
   "source": [
    "## 6. Bivariate Analysis"
   ]
  },
  {
   "cell_type": "code",
   "execution_count": null,
   "id": "a32045ae",
   "metadata": {},
   "outputs": [],
   "source": [
    "# Price vs CC\n",
    "sns.scatterplot(data=df, x='CC', y='Price')\n",
    "plt.title('Price vs CC')\n",
    "plt.show()\n",
    "\n",
    "# Boxplot: Price by Brand\n",
    "plt.figure(figsize=(10, 6))\n",
    "sns.boxplot(data=df, x='Brand', y='Price')\n",
    "plt.xticks(rotation=45)\n",
    "plt.title('Price by Brand')\n",
    "plt.show()"
   ]
  },
  {
   "cell_type": "markdown",
   "id": "d2f2bc71",
   "metadata": {},
   "source": [
    "## 7. Multivariate Analysis"
   ]
  },
  {
   "cell_type": "code",
   "execution_count": null,
   "id": "655cc4d5",
   "metadata": {},
   "outputs": [],
   "source": [
    "# Pairplot of numerical columns\n",
    "sns.pairplot(df[numerical_cols])\n",
    "plt.show()\n",
    "\n",
    "# Heatmap of correlations\n",
    "plt.figure(figsize=(10, 6))\n",
    "sns.heatmap(df[numerical_cols].corr(), annot=True, cmap='coolwarm')\n",
    "plt.title('Correlation Heatmap')\n",
    "plt.show()"
   ]
  },
  {
   "cell_type": "markdown",
   "id": "31543106",
   "metadata": {},
   "source": [
    "## 8. Conclusion\n",
    "\n",
    "This EDA helped uncover key patterns in bike pricing, engine capacity, and brand influence. This insight can guide decision-making for buyers or sellers in the second-hand bike market."
   ]
  }
 ],
 "metadata": {},
 "nbformat": 4,
 "nbformat_minor": 5
}
